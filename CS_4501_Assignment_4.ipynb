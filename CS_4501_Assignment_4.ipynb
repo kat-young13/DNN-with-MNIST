{
  "nbformat": 4,
  "nbformat_minor": 0,
  "metadata": {
    "colab": {
      "name": "CS 4501 Assignment 4.ipynb",
      "version": "0.3.2",
      "provenance": [],
      "collapsed_sections": []
    },
    "kernelspec": {
      "display_name": "Python 3",
      "language": "python",
      "name": "python3"
    }
  },
  "cells": [
    {
      "metadata": {
        "id": "-40VPC7MAGGB",
        "colab_type": "text"
      },
      "cell_type": "markdown",
      "source": [
        "# Assignment 4: Benchmarking Fashion-MNIST with Deep Neural Nets"
      ]
    },
    {
      "metadata": {
        "id": "9-dsdQJqU_nn",
        "colab_type": "text"
      },
      "cell_type": "markdown",
      "source": [
        "Kathryn Young\n",
        "<br>\n",
        "kmy9ca\n",
        "<br>\n",
        "04/21/2019"
      ]
    },
    {
      "metadata": {
        "id": "piFzh10hAGGE",
        "colab_type": "text"
      },
      "cell_type": "markdown",
      "source": [
        "### CS 4501 Machine Learning - Department of Computer Science - University of Virginia\n",
        "\"The original MNIST dataset contains a lot of handwritten digits. Members of the AI/ML/Data Science community love this dataset and use it as a benchmark to validate their algorithms. In fact, MNIST is often the first dataset researchers try. \"If it doesn't work on MNIST, it won't work at all\", they said. \"Well, if it does work on MNIST, it may still fail on others.\" - **Zalando Research, Github Repo.**\"\n",
        "\n",
        "Fashion-MNIST is a dataset from the Zalando's article. Each example is a 28x28 grayscale image, associated with a label from 10 classes. They intend Fashion-MNIST to serve as a direct drop-in replacement for the original MNIST dataset for benchmarking machine learning algorithms.\n",
        "\n",
        "![Here's an example how the data looks (each class takes three-rows):](https://github.com/zalandoresearch/fashion-mnist/raw/master/doc/img/fashion-mnist-sprite.png)\n",
        "\n",
        "In this assignment, you will attempt to benchmark the Fashion-MNIST using Neural Networks. You must use it to train some neural networks on TensorFlow and predict the final output of 10 classes. For deliverables, you must write code in Python and submit this Jupyter Notebook file (.ipynb) to earn a total of 100 pts. You will gain points depending on how you perform in the following sections.\n"
      ]
    },
    {
      "metadata": {
        "id": "469YvvIzAGGJ",
        "colab_type": "code",
        "colab": {}
      },
      "cell_type": "code",
      "source": [
        "# You might want to use the following packages\n",
        "import numpy as np\n",
        "import os\n",
        "import tensorflow as tf\n",
        "tf.logging.set_verbosity(tf.logging.ERROR) #reduce annoying warning messages\n",
        "from functools import partial\n",
        "\n",
        "# to make this notebook's output stable across runs\n",
        "def reset_graph(seed=42):\n",
        "    tf.reset_default_graph()\n",
        "    tf.set_random_seed(seed)\n",
        "    np.random.seed(seed)\n"
      ],
      "execution_count": 0,
      "outputs": []
    },
    {
      "metadata": {
        "id": "t-PtpH4xAGGG",
        "colab_type": "text"
      },
      "cell_type": "markdown",
      "source": [
        "---\n",
        "## 1. PRE-PROCESSING THE DATA (10 pts)\n",
        "\n",
        "You can load the Fashion MNIST directly from Tensorflow. **Partition of the dataset** so that you will have 50,000 examples for training, 10,000 examples for validation, and 10,000 examples for testing. Also, make sure that you platten out each of examples so that it contains only a 1-D feature vector.\n",
        "\n",
        "Write some code to output the dimensionalities of each partition (train, validation, and test sets).\n",
        "\n"
      ]
    },
    {
      "metadata": {
        "id": "Z2-Ilkesfm7Z",
        "colab_type": "code",
        "colab": {}
      },
      "cell_type": "code",
      "source": [
        "# Your code goes here for this section.\n",
        "from sklearn.preprocessing import StandardScaler\n",
        "\n",
        "(X_train, y_train), (X_test, y_test) = tf.keras.datasets.fashion_mnist.load_data();"
      ],
      "execution_count": 0,
      "outputs": []
    },
    {
      "metadata": {
        "id": "B245crDY_9AA",
        "colab_type": "code",
        "colab": {}
      },
      "cell_type": "code",
      "source": [
        "# is this flattened???!\n",
        "\n",
        "X_train = X_train.astype(np.float32).reshape(-1, 28*28) / 255.0\n",
        "X_test = X_test.astype(np.float32).reshape(-1, 28*28) / 255.0\n",
        "y_train = y_train.astype(np.int32)\n",
        "y_test = y_test.astype(np.int32)\n",
        "\n",
        "X_train = StandardScaler().fit_transform(X_train)\n",
        "X_test = StandardScaler().fit_transform(X_test)\n",
        "\n",
        "X_valid, X_train = X_train[:10000], X_train[10000:]\n",
        "y_valid, y_train = y_train[:10000], y_train[10000:]"
      ],
      "execution_count": 0,
      "outputs": []
    },
    {
      "metadata": {
        "id": "fgyTImAgJQYs",
        "colab_type": "code",
        "outputId": "9c4e847c-1910-4754-9461-b5680068c8a0",
        "colab": {
          "base_uri": "https://localhost:8080/",
          "height": 119
        }
      },
      "cell_type": "code",
      "source": [
        "# Output dimensionalities... ??? \n",
        "\n",
        "print(\"X Validation set: \", X_valid.shape)\n",
        "print(\"Y Validation set: \", y_valid.shape)\n",
        "print(\"X Training set: \", X_train.shape)\n",
        "print(\"Y Training set: \", y_train.shape)\n",
        "print(\"X Testing set: \", X_test.shape)\n",
        "print(\"Y Testing set: \", y_test.shape)"
      ],
      "execution_count": 4,
      "outputs": [
        {
          "output_type": "stream",
          "text": [
            "X Validation set:  (10000, 784)\n",
            "Y Validation set:  (10000,)\n",
            "X Training set:  (50000, 784)\n",
            "Y Training set:  (50000,)\n",
            "X Testing set:  (10000, 784)\n",
            "Y Testing set:  (10000,)\n"
          ],
          "name": "stdout"
        }
      ]
    },
    {
      "metadata": {
        "id": "Na4CpxLBAGGP",
        "colab_type": "text"
      },
      "cell_type": "markdown",
      "source": [
        "- - -\n",
        "## 2. CONSTRUCTION PHASE (30 pts)\n",
        "\n",
        "In this section, define at least three neural networks with different structures. Make sure that the input layer has the right number of inputs. The best structure often is found through a process of trial and error experimentation:\n",
        "- You may start with a fully connected network structure with two hidden layers.\n",
        "- You may try a few settings of the number of nodes in each layer.\n",
        "- You may try a few activation functions to see if they affect the performance.\n",
        "\n",
        "**Important Implementation Note:** For the purpose of learning Tensorflow, you must use low-level TensorFlow API to construct the network. Usage of high-level tools (ie. Keras) is not permited. "
      ]
    },
    {
      "metadata": {
        "id": "bIJrHPVlAGGQ",
        "colab_type": "code",
        "colab": {}
      },
      "cell_type": "code",
      "source": [
        "# Your code goes here\n",
        "reset_graph()\n",
        "\n",
        "# Set some configuration here\n",
        "n_inputs = 28*28  # Fashion-MNIST\n",
        "learning_rate = 0.01\n",
        "n_outputs = 10\n",
        "\n",
        "# Construct placeholder for the input layer. nO data goes here until it is run. When you run, you feed trainnig data in.\n",
        "X = tf.placeholder(tf.float32, shape=(None, n_inputs), name=\"X\")\n",
        "y = tf.placeholder(tf.int32, shape=(None), name=\"y\")"
      ],
      "execution_count": 0,
      "outputs": []
    },
    {
      "metadata": {
        "id": "VwQiQWPjLfEb",
        "colab_type": "code",
        "colab": {}
      },
      "cell_type": "code",
      "source": [
        "def neuron_layer(X, n_neurons, name, activation=None):\n",
        "    with tf.name_scope(name):\n",
        "        n_inputs = int(X.get_shape()[1])\n",
        "        stddev = 2 / np.sqrt(n_inputs)\n",
        "        init = tf.truncated_normal((n_inputs, n_neurons), stddev=stddev)\n",
        "        W = tf.Variable(init, name=\"kernel\")\n",
        "        b = tf.Variable(tf.zeros([n_neurons]), name=\"bias\")\n",
        "        Z = tf.matmul(X, W) + b\n",
        "        if activation is not None:\n",
        "            return activation(Z)\n",
        "        else:\n",
        "            return Z"
      ],
      "execution_count": 0,
      "outputs": []
    },
    {
      "metadata": {
        "id": "bcNE1vJVMiXo",
        "colab_type": "code",
        "colab": {}
      },
      "cell_type": "code",
      "source": [
        "n_inputs = 28*28  # MNIST\n",
        "n_hidden1 = 515\n",
        "n_hidden2 = 350\n",
        "n_hidden3 = 225\n",
        "n_outputs = 10\n",
        "\n",
        "# change number of layers, number of nodes in layer, activation function"
      ],
      "execution_count": 0,
      "outputs": []
    },
    {
      "metadata": {
        "id": "iDrFp7KKils6",
        "colab_type": "code",
        "colab": {}
      },
      "cell_type": "code",
      "source": [
        "with tf.name_scope(\"dnn1\"):\n",
        "    hidden1 = neuron_layer(X, n_hidden1, name=\"hidden1\",\n",
        "                           activation=tf.nn.relu)\n",
        "    hidden2 = neuron_layer(hidden1, n_hidden2, name=\"hidden2\",\n",
        "                           activation=tf.nn.relu)\n",
        "    hidden3 = neuron_layer(hidden2, n_hidden3, name=\"hidden3\",\n",
        "                           activation=tf.nn.relu)\n",
        "    logits = neuron_layer(hidden3, n_outputs, name=\"outputs\")"
      ],
      "execution_count": 0,
      "outputs": []
    },
    {
      "metadata": {
        "id": "luyNllyVkNxr",
        "colab_type": "code",
        "colab": {}
      },
      "cell_type": "code",
      "source": [
        "n2_inputs = 28*28  # MNIST\n",
        "n2_hidden1 = 500\n",
        "n2_hidden2 = 200\n",
        "n2_outputs = 10\n",
        "\n",
        "with tf.name_scope(\"dnn2\"):\n",
        "  #implementation of the second net here - changed number of nodes in hidden layers\n",
        "  \n",
        "  dnn2_hidden1 = neuron_layer(X, n2_hidden1, name=\"n2_hidden1\",\n",
        "                           activation=tf.nn.relu)\n",
        "  dnn2_hidden2 = neuron_layer(dnn2_hidden1, n2_hidden2, name=\"n2_hidden2\",\n",
        "                           activation=tf.nn.relu)\n",
        "  dnn2_logits = neuron_layer(dnn2_hidden2, n2_outputs, name=\"n2_outputs\")"
      ],
      "execution_count": 0,
      "outputs": []
    },
    {
      "metadata": {
        "id": "JuvjZeJekP4-",
        "colab_type": "code",
        "colab": {}
      },
      "cell_type": "code",
      "source": [
        "n3_inputs = 28*28  # MNIST\n",
        "n3_hidden1 = 500\n",
        "n3_hidden2 = 200\n",
        "n3_hidden3 = 50\n",
        "n3_outputs = 10\n",
        "\n",
        "with tf.name_scope(\"dnn3\"):\n",
        "  #implementation of the third net here\n",
        "  dnn3_hidden1 = tf.layers.dense(X, n3_hidden1, name=\"n3_hidden1\",\n",
        "                           activation=tf.nn.relu)\n",
        "  dnn3_hidden2 = tf.layers.dense(dnn3_hidden1, n3_hidden2, name=\"n3_hidden2\",\n",
        "                           activation=tf.nn.relu)\n",
        "  dnn3_hidden3 = tf.layers.dense(dnn3_hidden2, n3_hidden3, name=\"n3_hidden3\",\n",
        "                           activation=tf.nn.relu)\n",
        "  dnn3_logits = tf.layers.dense(dnn3_hidden3, n3_outputs, name=\"n3_outputs\")"
      ],
      "execution_count": 0,
      "outputs": []
    },
    {
      "metadata": {
        "id": "_mQCboA8ijWK",
        "colab_type": "code",
        "colab": {}
      },
      "cell_type": "code",
      "source": [
        "with tf.name_scope(\"loss\"):\n",
        "#implementation of the loss function net here\n",
        "    xentropy = tf.nn.sparse_softmax_cross_entropy_with_logits(labels=y,\n",
        "                                                              logits=logits)\n",
        "    loss = tf.reduce_mean(xentropy, name=\"loss\")"
      ],
      "execution_count": 0,
      "outputs": []
    },
    {
      "metadata": {
        "id": "Pls100xcdoCK",
        "colab_type": "code",
        "colab": {}
      },
      "cell_type": "code",
      "source": [
        "with tf.name_scope(\"loss2\"):\n",
        "#implementation of the loss function net here\n",
        "    xentropy2 = tf.nn.sparse_softmax_cross_entropy_with_logits(labels=y,\n",
        "                                                              logits=dnn2_logits)\n",
        "    loss2 = tf.reduce_mean(xentropy2, name=\"loss2\")"
      ],
      "execution_count": 0,
      "outputs": []
    },
    {
      "metadata": {
        "id": "TjyT2VGjrAwc",
        "colab_type": "code",
        "colab": {}
      },
      "cell_type": "code",
      "source": [
        "with tf.name_scope(\"loss3\"):\n",
        "#implementation of the loss function net here\n",
        "    xentropy3 = tf.nn.sparse_softmax_cross_entropy_with_logits(labels=y,\n",
        "                                                              logits=dnn3_logits)\n",
        "    loss3 = tf.reduce_mean(xentropy3, name=\"loss3\")"
      ],
      "execution_count": 0,
      "outputs": []
    },
    {
      "metadata": {
        "id": "GL_cXX09ih12",
        "colab_type": "code",
        "colab": {}
      },
      "cell_type": "code",
      "source": [
        "learning_rate = 0.01\n",
        "\n",
        "with tf.name_scope(\"train\"):\n",
        "  #implementation of the training optimizer here\n",
        "    optimizer = tf.train.GradientDescentOptimizer(learning_rate)\n",
        "    training_op = optimizer.minimize(loss)"
      ],
      "execution_count": 0,
      "outputs": []
    },
    {
      "metadata": {
        "id": "vVcLSbfad2r0",
        "colab_type": "code",
        "colab": {}
      },
      "cell_type": "code",
      "source": [
        "learning_rate2 = 0.01\n",
        "\n",
        "with tf.name_scope(\"train2\"):\n",
        "  #implementation of the training optimizer here\n",
        "    optimizer2 = tf.train.GradientDescentOptimizer(learning_rate2)\n",
        "    training_op2 = optimizer2.minimize(loss2)"
      ],
      "execution_count": 0,
      "outputs": []
    },
    {
      "metadata": {
        "id": "B7xUTiRrrL-w",
        "colab_type": "code",
        "colab": {}
      },
      "cell_type": "code",
      "source": [
        "learning_rate3 = 0.01\n",
        "\n",
        "with tf.name_scope(\"train3\"):\n",
        "  #implementation of the training optimizer here\n",
        "    optimizer3 = tf.train.GradientDescentOptimizer(learning_rate3)\n",
        "    training_op3 = optimizer3.minimize(loss3)"
      ],
      "execution_count": 0,
      "outputs": []
    },
    {
      "metadata": {
        "id": "EfKWL5IZigJg",
        "colab_type": "code",
        "colab": {}
      },
      "cell_type": "code",
      "source": [
        "with tf.name_scope(\"eval\"):\n",
        "  #implementation of the evaluation procedure here\n",
        "    correct = tf.nn.in_top_k(logits, y, 1)\n",
        "    accuracy = tf.reduce_mean(tf.cast(correct, tf.float32))"
      ],
      "execution_count": 0,
      "outputs": []
    },
    {
      "metadata": {
        "id": "OIc3o7IYewNC",
        "colab_type": "code",
        "colab": {}
      },
      "cell_type": "code",
      "source": [
        "with tf.name_scope(\"eval2\"):\n",
        "  #implementation of the evaluation procedure here\n",
        "    correct2 = tf.nn.in_top_k(dnn2_logits, y, 1)\n",
        "    accuracy2 = tf.reduce_mean(tf.cast(correct2, tf.float32))"
      ],
      "execution_count": 0,
      "outputs": []
    },
    {
      "metadata": {
        "id": "MsowOV6jrSQF",
        "colab_type": "code",
        "colab": {}
      },
      "cell_type": "code",
      "source": [
        "with tf.name_scope(\"eval3\"):\n",
        "  #implementation of the evaluation procedure here\n",
        "    correct3 = tf.nn.in_top_k(dnn3_logits, y, 1)\n",
        "    accuracy3 = tf.reduce_mean(tf.cast(correct3, tf.float32))"
      ],
      "execution_count": 0,
      "outputs": []
    },
    {
      "metadata": {
        "id": "SKcVSGXOAGGT",
        "colab_type": "text"
      },
      "cell_type": "markdown",
      "source": [
        "- - -\n",
        "## 3. EXECUTION PHASE (30 pts)\n",
        "\n",
        "After you construct the three models of neural networks, you can compute the performance measure as the class accuracy. You will need to define the number of epochs and size of the training batch. You also might need to reset the graph each time your try a different model. To save time and avoid retraining, you should save the trained model and load it from disk to evaluate a test set. Pick the best model and answer the following:\n",
        "- Which model yields the best performance measure for your dataset? Provide a reason why it yields the best performance.\n",
        "- Why did you pick this many hidden layers?\n",
        "- Provide some justifiable reasons for selecting the number of neurons per hidden layers. \n",
        "- Which activation functions did you use?\n",
        "\n",
        "In the next session you will get a chance to finetune it further .\n",
        "\n"
      ]
    },
    {
      "metadata": {
        "id": "NGDKdeZzAGGV",
        "colab_type": "code",
        "colab": {}
      },
      "cell_type": "code",
      "source": [
        "# Your code goes here\n",
        "init = tf.global_variables_initializer()\n",
        "saver = tf.train.Saver()\n",
        "\n",
        "n_epochs = 15\n",
        "batch_size = 20\n",
        "\n",
        "# shuffle_batch() shuffle the examples in a batch before training\n",
        "def shuffle_batch(X, y, batch_size):\n",
        "    rnd_idx = np.random.permutation(len(X))\n",
        "    n_batches = len(X) // batch_size\n",
        "    for batch_idx in np.array_split(rnd_idx, n_batches):\n",
        "        X_batch, y_batch = X[batch_idx], y[batch_idx]\n",
        "        yield X_batch, y_batch\n"
      ],
      "execution_count": 0,
      "outputs": []
    },
    {
      "metadata": {
        "id": "MKMqf1gijPwW",
        "colab_type": "code",
        "outputId": "40d9e256-6dfa-442e-b2cb-7481ea5caa1a",
        "colab": {
          "base_uri": "https://localhost:8080/",
          "height": 272
        }
      },
      "cell_type": "code",
      "source": [
        "with tf.Session() as sess:\n",
        "  init.run()\n",
        "  for epoch in range(n_epochs):\n",
        "    # implementation of the training ops here\n",
        "    # implementation of the validation accuracy here\n",
        "    for X_batch, y_batch in shuffle_batch(X_train, y_train, batch_size):\n",
        "        sess.run(training_op, feed_dict={X: X_batch, y: y_batch})\n",
        "    acc_batch = accuracy.eval(feed_dict={X: X_batch, y: y_batch})\n",
        "    acc_val = accuracy.eval(feed_dict={X: X_valid, y: y_valid})\n",
        "    print(epoch, \"Batch accuracy:\", acc_batch, \"Val accuracy:\", acc_val)\n",
        "    \n",
        "  save_path = saver.save(sess, \"./my_dnn_model.ckpt\")"
      ],
      "execution_count": 21,
      "outputs": [
        {
          "output_type": "stream",
          "text": [
            "0 Batch accuracy: 0.9 Val accuracy: 0.8599\n",
            "1 Batch accuracy: 0.9 Val accuracy: 0.8657\n",
            "2 Batch accuracy: 1.0 Val accuracy: 0.8764\n",
            "3 Batch accuracy: 1.0 Val accuracy: 0.8814\n",
            "4 Batch accuracy: 1.0 Val accuracy: 0.8795\n",
            "5 Batch accuracy: 1.0 Val accuracy: 0.8755\n",
            "6 Batch accuracy: 0.95 Val accuracy: 0.8876\n",
            "7 Batch accuracy: 1.0 Val accuracy: 0.8824\n",
            "8 Batch accuracy: 1.0 Val accuracy: 0.8784\n",
            "9 Batch accuracy: 1.0 Val accuracy: 0.8877\n",
            "10 Batch accuracy: 1.0 Val accuracy: 0.8837\n",
            "11 Batch accuracy: 1.0 Val accuracy: 0.8897\n",
            "12 Batch accuracy: 1.0 Val accuracy: 0.8856\n",
            "13 Batch accuracy: 1.0 Val accuracy: 0.8891\n",
            "14 Batch accuracy: 1.0 Val accuracy: 0.8873\n"
          ],
          "name": "stdout"
        }
      ]
    },
    {
      "metadata": {
        "id": "Pwm7wpk9ftD1",
        "colab_type": "code",
        "outputId": "a73e3674-8f90-48fa-a036-5c09aac06196",
        "colab": {
          "base_uri": "https://localhost:8080/",
          "height": 272
        }
      },
      "cell_type": "code",
      "source": [
        "# eval2 !?????\n",
        "# this is for DNN2\n",
        "n_epochs2 = 15\n",
        "batch_size2 = 20\n",
        "\n",
        "with tf.Session() as sess2:\n",
        "  init.run()\n",
        "  for epoch in range(n_epochs2):\n",
        "    # implementation of the training ops here\n",
        "    # implementation of the validation accuracy here\n",
        "    for X_batch, y_batch in shuffle_batch(X_train, y_train, batch_size2):\n",
        "        sess2.run(training_op2, feed_dict={X: X_batch, y: y_batch})\n",
        "    acc_batch2 = accuracy2.eval(feed_dict={X: X_batch, y: y_batch})\n",
        "    acc_val2 = accuracy2.eval(feed_dict={X: X_valid, y: y_valid})\n",
        "    print(epoch, \"Batch accuracy:\", acc_batch2, \"Val accuracy:\", acc_val2)\n",
        "    \n",
        "  save_path = saver.save(sess2, \"./my_dnn_model2.ckpt\")"
      ],
      "execution_count": 22,
      "outputs": [
        {
          "output_type": "stream",
          "text": [
            "0 Batch accuracy: 0.9 Val accuracy: 0.8632\n",
            "1 Batch accuracy: 0.9 Val accuracy: 0.8743\n",
            "2 Batch accuracy: 0.95 Val accuracy: 0.8694\n",
            "3 Batch accuracy: 1.0 Val accuracy: 0.8804\n",
            "4 Batch accuracy: 0.95 Val accuracy: 0.8831\n",
            "5 Batch accuracy: 1.0 Val accuracy: 0.8823\n",
            "6 Batch accuracy: 1.0 Val accuracy: 0.8864\n",
            "7 Batch accuracy: 0.95 Val accuracy: 0.8852\n",
            "8 Batch accuracy: 1.0 Val accuracy: 0.8815\n",
            "9 Batch accuracy: 1.0 Val accuracy: 0.888\n",
            "10 Batch accuracy: 1.0 Val accuracy: 0.8829\n",
            "11 Batch accuracy: 1.0 Val accuracy: 0.8836\n",
            "12 Batch accuracy: 1.0 Val accuracy: 0.8862\n",
            "13 Batch accuracy: 1.0 Val accuracy: 0.8878\n",
            "14 Batch accuracy: 1.0 Val accuracy: 0.8883\n"
          ],
          "name": "stdout"
        }
      ]
    },
    {
      "metadata": {
        "id": "6F8WpMVDrgmF",
        "colab_type": "code",
        "outputId": "c476375e-ea94-4268-9607-ff14f2b3b3ae",
        "colab": {
          "base_uri": "https://localhost:8080/",
          "height": 272
        }
      },
      "cell_type": "code",
      "source": [
        "# this is for DNN3\n",
        "n_epochs3 = 15\n",
        "batch_size3 = 20\n",
        "\n",
        "with tf.Session() as sess3:\n",
        "  init.run()\n",
        "  for epoch in range(n_epochs3):\n",
        "    # implementation of the training ops here\n",
        "    # implementation of the validation accuracy here\n",
        "    for X_batch, y_batch in shuffle_batch(X_train, y_train, batch_size3):\n",
        "        sess3.run(training_op3, feed_dict={X: X_batch, y: y_batch})\n",
        "    acc_batch3 = accuracy3.eval(feed_dict={X: X_batch, y: y_batch})\n",
        "    acc_val3 = accuracy3.eval(feed_dict={X: X_valid, y: y_valid})\n",
        "    print(epoch, \"Batch accuracy:\", acc_batch3, \"Val accuracy:\", acc_val3)\n",
        "    \n",
        "  save_path = saver.save(sess3, \"./my_dnn_model3.ckpt\")"
      ],
      "execution_count": 23,
      "outputs": [
        {
          "output_type": "stream",
          "text": [
            "0 Batch accuracy: 0.95 Val accuracy: 0.8615\n",
            "1 Batch accuracy: 0.9 Val accuracy: 0.8735\n",
            "2 Batch accuracy: 0.95 Val accuracy: 0.88\n",
            "3 Batch accuracy: 0.95 Val accuracy: 0.8857\n",
            "4 Batch accuracy: 0.9 Val accuracy: 0.8811\n",
            "5 Batch accuracy: 1.0 Val accuracy: 0.8845\n",
            "6 Batch accuracy: 1.0 Val accuracy: 0.8859\n",
            "7 Batch accuracy: 0.95 Val accuracy: 0.8869\n",
            "8 Batch accuracy: 1.0 Val accuracy: 0.881\n",
            "9 Batch accuracy: 0.95 Val accuracy: 0.8852\n",
            "10 Batch accuracy: 1.0 Val accuracy: 0.8914\n",
            "11 Batch accuracy: 1.0 Val accuracy: 0.892\n",
            "12 Batch accuracy: 1.0 Val accuracy: 0.8891\n",
            "13 Batch accuracy: 1.0 Val accuracy: 0.884\n",
            "14 Batch accuracy: 1.0 Val accuracy: 0.8896\n"
          ],
          "name": "stdout"
        }
      ]
    },
    {
      "metadata": {
        "id": "lFPM62nDjncP",
        "colab_type": "code",
        "outputId": "3c16ba0c-a9cb-4297-f819-5d75bc855a08",
        "colab": {
          "base_uri": "https://localhost:8080/",
          "height": 68
        }
      },
      "cell_type": "code",
      "source": [
        "with tf.Session() as sess:\n",
        "    saver.restore(sess, \"./my_dnn_model.ckpt\")\n",
        "    # implementation of the test set evaluation here\n",
        "    X_new_scaled = X_test[:20]\n",
        "    Z = logits.eval(feed_dict={X: X_new_scaled})\n",
        "    y_pred = np.argmax(Z, axis=1)\n",
        "    accuracy_val = accuracy.eval(feed_dict={X: X_test, y: y_test})\n",
        "    \n",
        "\n",
        "print(\"Predicted classes:\", y_pred)\n",
        "print(\"Actual classes:   \", y_test[:20])\n",
        "print(\"Accuracy DNN 1 = \", accuracy_val)"
      ],
      "execution_count": 24,
      "outputs": [
        {
          "output_type": "stream",
          "text": [
            "Predicted classes: [9 2 1 1 6 1 4 6 5 7 4 5 7 3 4 1 2 2 8 0]\n",
            "Actual classes:    [9 2 1 1 6 1 4 6 5 7 4 5 7 3 4 1 2 4 8 0]\n",
            "Accuracy DNN 1 =  0.8803\n"
          ],
          "name": "stdout"
        }
      ]
    },
    {
      "metadata": {
        "id": "oryeWyqVR3u-",
        "colab_type": "code",
        "outputId": "8e3a5308-6e9b-4284-a580-31e71bc89a53",
        "colab": {
          "base_uri": "https://localhost:8080/",
          "height": 68
        }
      },
      "cell_type": "code",
      "source": [
        "with tf.Session() as sess2:\n",
        "    saver.restore(sess2, \"./my_dnn_model2.ckpt\")\n",
        "    # implementation of the test set evaluation here\n",
        "    X_new_scaled2 = X_test[:20]\n",
        "    Z2 = dnn2_logits.eval(feed_dict={X: X_new_scaled2})\n",
        "    y_pred2 = np.argmax(Z2, axis=1)\n",
        "    accuracy_val2 = accuracy2.eval(feed_dict={X: X_test, y: y_test})\n",
        "    \n",
        "\n",
        "print(\"Predicted classes:\", y_pred2)\n",
        "print(\"Actual classes:   \", y_test[:20])\n",
        "print(\"Accuracy DNN 2 = \", accuracy_val2)"
      ],
      "execution_count": 25,
      "outputs": [
        {
          "output_type": "stream",
          "text": [
            "Predicted classes: [9 2 1 1 0 1 4 6 5 7 4 5 5 3 4 1 2 2 8 0]\n",
            "Actual classes:    [9 2 1 1 6 1 4 6 5 7 4 5 7 3 4 1 2 4 8 0]\n",
            "Accuracy DNN 2 =  0.8784\n"
          ],
          "name": "stdout"
        }
      ]
    },
    {
      "metadata": {
        "id": "hpNMiW-4tnD1",
        "colab_type": "code",
        "outputId": "5a8ea5af-a2d3-41f6-cffe-0292d3971fe5",
        "colab": {
          "base_uri": "https://localhost:8080/",
          "height": 68
        }
      },
      "cell_type": "code",
      "source": [
        "with tf.Session() as sess3:\n",
        "    saver.restore(sess3, \"./my_dnn_model3.ckpt\")\n",
        "    # implementation of the test set evaluation here\n",
        "    X_new_scaled3 = X_test[:20]\n",
        "    Z3 = dnn3_logits.eval(feed_dict={X: X_new_scaled3})\n",
        "    y_pred3 = np.argmax(Z3, axis=1)\n",
        "    accuracy_val3 = accuracy3.eval(feed_dict={X: X_test, y: y_test})\n",
        "    \n",
        "    \n",
        "\n",
        "print(\"Predicted classes:\", y_pred3)\n",
        "print(\"Actual classes:   \", y_test[:20])\n",
        "print(\"Accuracy DNN 3 = \", accuracy_val3)"
      ],
      "execution_count": 26,
      "outputs": [
        {
          "output_type": "stream",
          "text": [
            "Predicted classes: [9 2 1 1 6 1 4 6 5 7 4 5 5 3 4 1 2 2 8 0]\n",
            "Actual classes:    [9 2 1 1 6 1 4 6 5 7 4 5 7 3 4 1 2 4 8 0]\n",
            "Accuracy DNN 3 =  0.8842\n"
          ],
          "name": "stdout"
        }
      ]
    },
    {
      "metadata": {
        "id": "snnavcm0urN8",
        "colab_type": "code",
        "outputId": "de320199-1263-4846-8d49-1805f42fecce",
        "colab": {
          "base_uri": "https://localhost:8080/",
          "height": 85
        }
      },
      "cell_type": "code",
      "source": [
        "# print out the final accuracy here\n",
        "print(\"Accuracies: \")\n",
        "print(\"Model 1: \", accuracy_val)\n",
        "print(\"Model 2: \", accuracy_val2)\n",
        "print(\"Model 3: \", accuracy_val3)"
      ],
      "execution_count": 27,
      "outputs": [
        {
          "output_type": "stream",
          "text": [
            "Accuracies: \n",
            "Model 1:  0.8803\n",
            "Model 2:  0.8784\n",
            "Model 3:  0.8842\n"
          ],
          "name": "stdout"
        }
      ]
    },
    {
      "metadata": {
        "id": "1LwkaoxjEMJP",
        "colab_type": "text"
      },
      "cell_type": "markdown",
      "source": [
        "Model 3 yields the best performance measure for this dataset by a small margin. Model 1 has three hidden layer, each having ~66% the amount of nodes from the previous layer, Model 2 has two hidden layers, and Model 3 which has three layers as well with smaller numbers of nodes at each level. I picked three hidden layers because it made sense that one hidden layer would attempt to pick up lines, the next layer would attempt to put those lines together into shapes (i.e. squares, circles, rectangles, etc.), and the third layer would put those shapes together to form more complicated shapes.\n",
        "\n",
        "<br>\n",
        "\n",
        "For Model 1, I selected a high number of neurons 515 for the first layer because it was about 2/3 of the neurons from the first layer and would hopefully be the best number to allow the network to pick up on lines the best. I funneled those 515 neurons into 350 other categories of shapes around (~2/3 of 515), and then I figured there would be multiple variations of a single item (therefore placing the number of neurons in the last level at 225, or ~2/3 of 350). The number of output neurons is 10 because there are 10 classes to be classified.\n",
        "\n",
        "<br>\n",
        "\n",
        "In Model 3, I decided to change the number of nodes a bit so that they funneled into the outputs more steeply. I started the first layer at 500 nodes, then moved to 200, then moved to 50 before ending the output layer at 10. I figured this would give a different look on accuracy than taking the standard ~2/3 of the previous layer.\n",
        "\n",
        "<br>\n",
        "\n",
        "I tried relu, elu, sigmoid, tanh, sigmoid and leaky_relu activation functions, and relu ended up coming out with the best results, which is why Model 1, Model 2, and Model 3 all use relu."
      ]
    },
    {
      "metadata": {
        "id": "-s2zv1SrAGGY",
        "colab_type": "text"
      },
      "cell_type": "markdown",
      "source": [
        "- - -\n",
        "## 4. FINETUNING THE NETWORK (25 pts)\n",
        "\n",
        "The best performance on the Fashion MNIST of a non-neural-net classifier is the Support Vector Classifier {\"C\":10,\"kernel\":\"poly\"} with 0.897 accuracy. In this section, you will see how close you can get to that accuracy, or (better yet) beat it! You will be able to see the performance of other ML methods below:\n",
        "http://fashion-mnist.s3-website.eu-central-1.amazonaws.com\n",
        "\n",
        "Use the best model from the previous section and see if you can improve it further. To improve the performance of your model, You must make some modifications based upon the practical guidelines discuss in class. Here are a few decisions about the recommended network configurations you have to make:\n",
        "1. Initialization: Use He Initialization for your model\n",
        "2. Activation: Add ELU as the activation function throughout your hidden layers\n",
        "3. Normalization: Incorporate the batch normalization at every layer\n",
        "4. Regularization: Configure the dropout policy at 50% rate\n",
        "5. Optimization: Change Gradient Descent into Adam Optimization\n",
        "6. Your choice: make any other changes in 1-5 you deem necessary\n",
        "\n",
        "Keep in mind that the execution phase is essentially the same, so you can just run it from the above. See how much you gain in classification accuracy. Provide some justifications for the gain in performance. \n",
        "\n",
        "\n",
        "\n",
        "\n"
      ]
    },
    {
      "metadata": {
        "id": "hjDXZ5ws6Zpx",
        "colab_type": "code",
        "colab": {}
      },
      "cell_type": "code",
      "source": [
        "# this is where you try to get high accuracy.\n",
        "# 1. initialization - what activation each first neuron starts at.\n",
        "# 2. change activation functions - Leaky ReLU might be best option\n",
        "# 3. Your choice can be #neurons, hidden layers, learning rate, batch sizes, epochs.\n",
        "\n",
        "n_inputs = 28*28  # MNIST\n",
        "n_hidden1 = 500\n",
        "n_hidden2 = 200\n",
        "n_hidden3 = 50\n",
        "n_outputs = 10\n",
        "\n",
        "he_init = tf.variance_scaling_initializer()\n",
        "\n",
        "training = tf.placeholder_with_default(False, shape=(), name='training')\n",
        "\n",
        "dropout_rate = 0.5  # == 1 - keep_prob\n",
        "X_drop = tf.layers.dropout(X, dropout_rate, training=training)\n",
        "\n",
        "with tf.name_scope(\"dnnBenchmark\"):\n",
        "  # implementation of the new benchmarking DNN here\n",
        "    hidden1 = tf.layers.dense(X_drop, n_hidden1, activation=tf.nn.relu, kernel_initializer=he_init, name=\"hidden1\")\n",
        "    \n",
        "    hidden2 = tf.layers.dense(hidden1, n_hidden2, activation=tf.nn.relu, kernel_initializer=he_init, name=\"hidden2\")\n",
        "    \n",
        "    hidden3 = tf.layers.dense(hidden2, n_hidden1, activation=tf.nn.relu, kernel_initializer=he_init, name=\"hidden3\")\n",
        "    \n",
        "    logits = tf.layers.dense(hidden3, n_outputs, name=\"outputs\")\n",
        "    \n",
        "    \n",
        "\n",
        "with tf.name_scope(\"loss\"):\n",
        "#implementation of the loss function net here\n",
        "    xentropy = tf.nn.sparse_softmax_cross_entropy_with_logits(labels=y,\n",
        "                                                              logits=logits)\n",
        "    loss = tf.reduce_mean(xentropy, name=\"loss\")\n",
        "    \n",
        "learning_rate = 0.01\n",
        "\n",
        "\n",
        "with tf.name_scope(\"train\"):\n",
        "  #implementation of the training optimizer here\n",
        "    optimizer = tf.train.GradientDescentOptimizer(learning_rate)\n",
        "    training_op = optimizer.minimize(loss)\n",
        "\n",
        "with tf.name_scope(\"eval\"):\n",
        "  #implementation of the evaluation procedure here\n",
        "    correct = tf.nn.in_top_k(logits, y, 1)\n",
        "    accuracy = tf.reduce_mean(tf.cast(correct, tf.float32))"
      ],
      "execution_count": 0,
      "outputs": []
    },
    {
      "metadata": {
        "id": "entglVNtIpx2",
        "colab_type": "code",
        "outputId": "45eff489-aa24-455c-cbcd-9260e856bdbb",
        "colab": {
          "base_uri": "https://localhost:8080/",
          "height": 323
        }
      },
      "cell_type": "code",
      "source": [
        "init = tf.global_variables_initializer()\n",
        "saver = tf.train.Saver()\n",
        "\n",
        "n_epochs = 15\n",
        "batch_size = 20\n",
        "\n",
        "with tf.Session() as sess:\n",
        "  init.run()\n",
        "  for epoch in range(n_epochs):\n",
        "    # implementation of the training ops here\n",
        "    # implementation of the validation accuracy here\n",
        "    for X_batch, y_batch in shuffle_batch(X_train, y_train, batch_size):\n",
        "        sess.run(training_op, feed_dict={X: X_batch, y: y_batch})\n",
        "    acc_batch = accuracy.eval(feed_dict={X: X_batch, y: y_batch})\n",
        "    acc_val = accuracy.eval(feed_dict={X: X_valid, y: y_valid})\n",
        "    print(epoch, \"Batch accuracy:\", acc_batch, \"Val accuracy:\", acc_val)\n",
        "    \n",
        "  save_path = saver.save(sess, \"./my_dnn_model.ckpt\")\n",
        "\n",
        "with tf.Session() as sess:\n",
        "    saver.restore(sess, \"./my_dnn_model.ckpt\")\n",
        "    # implementation of the test set evaluation here\n",
        "    X_new_scaled = X_test[:20]\n",
        "    Z = logits.eval(feed_dict={X: X_new_scaled})\n",
        "    y_pred = np.argmax(Z, axis=1)\n",
        "    accuracy_val = accuracy.eval(feed_dict={X: X_test, y: y_test})\n",
        "    \n",
        "\n",
        "print(\"Predicted classes:\", y_pred)\n",
        "print(\"Actual classes:   \", y_test[:20])\n",
        "print(\"Accuracy DNN 3 = \", accuracy_val)"
      ],
      "execution_count": 29,
      "outputs": [
        {
          "output_type": "stream",
          "text": [
            "0 Batch accuracy: 1.0 Val accuracy: 0.8585\n",
            "1 Batch accuracy: 1.0 Val accuracy: 0.8732\n",
            "2 Batch accuracy: 0.95 Val accuracy: 0.8835\n",
            "3 Batch accuracy: 0.9 Val accuracy: 0.8888\n",
            "4 Batch accuracy: 1.0 Val accuracy: 0.8883\n",
            "5 Batch accuracy: 0.95 Val accuracy: 0.89\n",
            "6 Batch accuracy: 1.0 Val accuracy: 0.893\n",
            "7 Batch accuracy: 0.95 Val accuracy: 0.8936\n",
            "8 Batch accuracy: 0.95 Val accuracy: 0.8904\n",
            "9 Batch accuracy: 1.0 Val accuracy: 0.8925\n",
            "10 Batch accuracy: 1.0 Val accuracy: 0.8895\n",
            "11 Batch accuracy: 1.0 Val accuracy: 0.8922\n",
            "12 Batch accuracy: 1.0 Val accuracy: 0.8878\n",
            "13 Batch accuracy: 1.0 Val accuracy: 0.8974\n",
            "14 Batch accuracy: 1.0 Val accuracy: 0.89\n",
            "Predicted classes: [9 2 1 1 6 1 4 6 5 7 4 5 8 3 4 1 2 2 8 0]\n",
            "Actual classes:    [9 2 1 1 6 1 4 6 5 7 4 5 7 3 4 1 2 4 8 0]\n",
            "Accuracy DNN 3 =  0.8817\n"
          ],
          "name": "stdout"
        }
      ]
    },
    {
      "metadata": {
        "id": "pO6z8n66CusL",
        "colab_type": "text"
      },
      "cell_type": "markdown",
      "source": [
        "There was a minor increase in accuracy after the optimizations I ran. The accuracy for my final model is typically around mid 88%. The slight increase in accuracy was due to modifications made such as adding He initialization. This was the modification that made the most noticable positive difference, although interestingly on occaison the original model accuracy is a little better.\n",
        "\n",
        "<br> \n",
        "\n",
        "I experimented with changing relu activation to elu activation, implementing batch normalization at every layer, putting in a dropout policy at each layer, and changing Gradient Descent into Adam Optimization. Many of these modifications led to either no apparent change in accuracy or decrease in accuracy, so they were not included in the final model."
      ]
    },
    {
      "metadata": {
        "id": "04jsbI9TAGGY",
        "colab_type": "text"
      },
      "cell_type": "markdown",
      "source": [
        "- - -\n",
        "## 5. OUTLOOK (5 pts)\n",
        "\n",
        "Plan for the outlook of your system: This may lead to the direction of your future project:\n",
        "- Did your neural network outperform other \"traditional ML technique? Why/why not?\n",
        "- Does your model work well? If not, which model should be further investigated?\n",
        "- Do you satisfy with your system? What do you think needed to improve?\n",
        "\n"
      ]
    },
    {
      "metadata": {
        "id": "P7bB3ozuE2mR",
        "colab_type": "text"
      },
      "cell_type": "markdown",
      "source": [
        "My neural network outperformed the majority of the other traditional ML techniques but it did not quite outperform the best of the traditional ML techniques. My model missed the mark on this by a fraction of a percent. After making all of the various optimizations, the accuracies weren’t getting any better when added on at a certain point. My model works pretty well. To have that high of accuracy compared to other models on the same data means that it is worth keeping and maybe exploring further to a greater extent. I am satisfied with my system because it is intuitive to me and I tried everything suggested in order to get better results — including things and excluding things as necessary. However, I think there is probably an even bigger world of things I could examine to improve accuracy."
      ]
    },
    {
      "metadata": {
        "id": "zS9PKaL4AGGZ",
        "colab_type": "text"
      },
      "cell_type": "markdown",
      "source": [
        "- - - \n",
        "### NEED HELP?"
      ]
    },
    {
      "metadata": {
        "id": "T0vuIEBDAGGa",
        "colab_type": "text"
      },
      "cell_type": "markdown",
      "source": [
        "In case you get stuck in any step in the process, you may find some useful information from:\n",
        "\n",
        " * Consult my lectures and/or the textbook\n",
        " * Talk to the TA, they are available and there to help you during OH\n",
        " * Come talk to me or email me <nn4pj@virginia.edu> with subject starting \"CS4501 Assignment 4:...\".\n",
        " * More on the Fashion-MNIST to be found here: https://hanxiao.github.io/2018/09/28/Fashion-MNIST-Year-In-Review/\n",
        "\n",
        "Best of luck and have fun!"
      ]
    },
    {
      "metadata": {
        "id": "cH_mulWEAGGb",
        "colab_type": "code",
        "colab": {}
      },
      "cell_type": "code",
      "source": [
        ""
      ],
      "execution_count": 0,
      "outputs": []
    }
  ]
}